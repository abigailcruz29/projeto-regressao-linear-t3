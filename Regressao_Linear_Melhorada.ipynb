{
  "cells": [
    {
      "cell_type": "markdown",
      "metadata": {
        "id": "view-in-github",
        "colab_type": "text"
      },
      "source": [
        "<a href=\"https://colab.research.google.com/github/abigailcruz29/projeto-regressao-linear-t3/blob/main/Regressao_Linear_Melhorada.ipynb\" target=\"_parent\"><img src=\"https://colab.research.google.com/assets/colab-badge.svg\" alt=\"Open In Colab\"/></a>"
      ]
    },
    {
      "cell_type": "markdown",
      "id": "3a6d07f1",
      "metadata": {
        "id": "3a6d07f1"
      },
      "source": [
        "# Regressão Linear Melhorada"
      ]
    },
    {
      "cell_type": "markdown",
      "id": "1f1179bb",
      "metadata": {
        "id": "1f1179bb"
      },
      "source": [
        "## Introdução\n",
        "Este notebook implementa uma análise de Regressão Linear e busca melhorar o modelo aplicando técnicas como:\n",
        "- Pré-processamento com normalização (StandardScaler).\n",
        "- Ampliação de variáveis com características polinomiais.\n",
        "- Regularização com RidgeCV (L2).\n",
        "O objetivo é melhorar as métricas de desempenho (MSE, MAE, R²)."
      ]
    },
    {
      "cell_type": "markdown",
      "id": "a2b6a890",
      "metadata": {
        "id": "a2b6a890"
      },
      "source": [
        "## Importação de Bibliotecas"
      ]
    },
    {
      "cell_type": "code",
      "execution_count": 7,
      "id": "4f1c8062",
      "metadata": {
        "id": "4f1c8062"
      },
      "outputs": [],
      "source": [
        "import pandas as pd\n",
        "import numpy as np\n",
        "from sklearn.model_selection import train_test_split\n",
        "from sklearn.linear_model import LinearRegression, RidgeCV\n",
        "from sklearn.preprocessing import StandardScaler, PolynomialFeatures\n",
        "from sklearn.metrics import mean_squared_error, mean_absolute_error, r2_score\n",
        "import matplotlib.pyplot as plt\n",
        "import seaborn as sns\n",
        "from sklearn.pipeline import make_pipeline\n"
      ]
    },
    {
      "cell_type": "markdown",
      "id": "c6fee616",
      "metadata": {
        "id": "c6fee616"
      },
      "source": [
        "## Carregamento e Pré-processamento dos Dados"
      ]
    },
    {
      "cell_type": "code",
      "execution_count": 8,
      "id": "74228ba3",
      "metadata": {
        "colab": {
          "base_uri": "https://localhost:8080/",
          "height": 278
        },
        "id": "74228ba3",
        "outputId": "ed8cd891-afe6-45d2-cfe5-1228c4a01757"
      },
      "outputs": [
        {
          "output_type": "execute_result",
          "data": {
            "text/plain": [
              "   rank channel_info  influence_score   posts    followers avg_likes  \\\n",
              "0     1    cristiano               92  3300.0  475800000.0      8.7m   \n",
              "1     2  kyliejenner               91  6900.0  366200000.0      8.3m   \n",
              "2     3     leomessi               90   890.0  357300000.0      6.8m   \n",
              "3     4  selenagomez               93  1800.0  342700000.0      6.2m   \n",
              "4     5      therock               91  6800.0  334100000.0      1.9m   \n",
              "\n",
              "   60_day_eng_rate new_post_avg_like total_likes        country  \n",
              "0             1.39              6.5m       29.0b          Spain  \n",
              "1             1.62              5.9m       57.4b  United States  \n",
              "2             1.24              4.4m        6.0b            NaN  \n",
              "3             0.97              3.3m       11.5b  United States  \n",
              "4             0.20            665.3k       12.5b  United States  "
            ],
            "text/html": [
              "\n",
              "  <div id=\"df-0d25430c-576b-4b5a-9fdd-9e9c3434338a\" class=\"colab-df-container\">\n",
              "    <div>\n",
              "<style scoped>\n",
              "    .dataframe tbody tr th:only-of-type {\n",
              "        vertical-align: middle;\n",
              "    }\n",
              "\n",
              "    .dataframe tbody tr th {\n",
              "        vertical-align: top;\n",
              "    }\n",
              "\n",
              "    .dataframe thead th {\n",
              "        text-align: right;\n",
              "    }\n",
              "</style>\n",
              "<table border=\"1\" class=\"dataframe\">\n",
              "  <thead>\n",
              "    <tr style=\"text-align: right;\">\n",
              "      <th></th>\n",
              "      <th>rank</th>\n",
              "      <th>channel_info</th>\n",
              "      <th>influence_score</th>\n",
              "      <th>posts</th>\n",
              "      <th>followers</th>\n",
              "      <th>avg_likes</th>\n",
              "      <th>60_day_eng_rate</th>\n",
              "      <th>new_post_avg_like</th>\n",
              "      <th>total_likes</th>\n",
              "      <th>country</th>\n",
              "    </tr>\n",
              "  </thead>\n",
              "  <tbody>\n",
              "    <tr>\n",
              "      <th>0</th>\n",
              "      <td>1</td>\n",
              "      <td>cristiano</td>\n",
              "      <td>92</td>\n",
              "      <td>3300.0</td>\n",
              "      <td>475800000.0</td>\n",
              "      <td>8.7m</td>\n",
              "      <td>1.39</td>\n",
              "      <td>6.5m</td>\n",
              "      <td>29.0b</td>\n",
              "      <td>Spain</td>\n",
              "    </tr>\n",
              "    <tr>\n",
              "      <th>1</th>\n",
              "      <td>2</td>\n",
              "      <td>kyliejenner</td>\n",
              "      <td>91</td>\n",
              "      <td>6900.0</td>\n",
              "      <td>366200000.0</td>\n",
              "      <td>8.3m</td>\n",
              "      <td>1.62</td>\n",
              "      <td>5.9m</td>\n",
              "      <td>57.4b</td>\n",
              "      <td>United States</td>\n",
              "    </tr>\n",
              "    <tr>\n",
              "      <th>2</th>\n",
              "      <td>3</td>\n",
              "      <td>leomessi</td>\n",
              "      <td>90</td>\n",
              "      <td>890.0</td>\n",
              "      <td>357300000.0</td>\n",
              "      <td>6.8m</td>\n",
              "      <td>1.24</td>\n",
              "      <td>4.4m</td>\n",
              "      <td>6.0b</td>\n",
              "      <td>NaN</td>\n",
              "    </tr>\n",
              "    <tr>\n",
              "      <th>3</th>\n",
              "      <td>4</td>\n",
              "      <td>selenagomez</td>\n",
              "      <td>93</td>\n",
              "      <td>1800.0</td>\n",
              "      <td>342700000.0</td>\n",
              "      <td>6.2m</td>\n",
              "      <td>0.97</td>\n",
              "      <td>3.3m</td>\n",
              "      <td>11.5b</td>\n",
              "      <td>United States</td>\n",
              "    </tr>\n",
              "    <tr>\n",
              "      <th>4</th>\n",
              "      <td>5</td>\n",
              "      <td>therock</td>\n",
              "      <td>91</td>\n",
              "      <td>6800.0</td>\n",
              "      <td>334100000.0</td>\n",
              "      <td>1.9m</td>\n",
              "      <td>0.20</td>\n",
              "      <td>665.3k</td>\n",
              "      <td>12.5b</td>\n",
              "      <td>United States</td>\n",
              "    </tr>\n",
              "  </tbody>\n",
              "</table>\n",
              "</div>\n",
              "    <div class=\"colab-df-buttons\">\n",
              "\n",
              "  <div class=\"colab-df-container\">\n",
              "    <button class=\"colab-df-convert\" onclick=\"convertToInteractive('df-0d25430c-576b-4b5a-9fdd-9e9c3434338a')\"\n",
              "            title=\"Convert this dataframe to an interactive table.\"\n",
              "            style=\"display:none;\">\n",
              "\n",
              "  <svg xmlns=\"http://www.w3.org/2000/svg\" height=\"24px\" viewBox=\"0 -960 960 960\">\n",
              "    <path d=\"M120-120v-720h720v720H120Zm60-500h600v-160H180v160Zm220 220h160v-160H400v160Zm0 220h160v-160H400v160ZM180-400h160v-160H180v160Zm440 0h160v-160H620v160ZM180-180h160v-160H180v160Zm440 0h160v-160H620v160Z\"/>\n",
              "  </svg>\n",
              "    </button>\n",
              "\n",
              "  <style>\n",
              "    .colab-df-container {\n",
              "      display:flex;\n",
              "      gap: 12px;\n",
              "    }\n",
              "\n",
              "    .colab-df-convert {\n",
              "      background-color: #E8F0FE;\n",
              "      border: none;\n",
              "      border-radius: 50%;\n",
              "      cursor: pointer;\n",
              "      display: none;\n",
              "      fill: #1967D2;\n",
              "      height: 32px;\n",
              "      padding: 0 0 0 0;\n",
              "      width: 32px;\n",
              "    }\n",
              "\n",
              "    .colab-df-convert:hover {\n",
              "      background-color: #E2EBFA;\n",
              "      box-shadow: 0px 1px 2px rgba(60, 64, 67, 0.3), 0px 1px 3px 1px rgba(60, 64, 67, 0.15);\n",
              "      fill: #174EA6;\n",
              "    }\n",
              "\n",
              "    .colab-df-buttons div {\n",
              "      margin-bottom: 4px;\n",
              "    }\n",
              "\n",
              "    [theme=dark] .colab-df-convert {\n",
              "      background-color: #3B4455;\n",
              "      fill: #D2E3FC;\n",
              "    }\n",
              "\n",
              "    [theme=dark] .colab-df-convert:hover {\n",
              "      background-color: #434B5C;\n",
              "      box-shadow: 0px 1px 3px 1px rgba(0, 0, 0, 0.15);\n",
              "      filter: drop-shadow(0px 1px 2px rgba(0, 0, 0, 0.3));\n",
              "      fill: #FFFFFF;\n",
              "    }\n",
              "  </style>\n",
              "\n",
              "    <script>\n",
              "      const buttonEl =\n",
              "        document.querySelector('#df-0d25430c-576b-4b5a-9fdd-9e9c3434338a button.colab-df-convert');\n",
              "      buttonEl.style.display =\n",
              "        google.colab.kernel.accessAllowed ? 'block' : 'none';\n",
              "\n",
              "      async function convertToInteractive(key) {\n",
              "        const element = document.querySelector('#df-0d25430c-576b-4b5a-9fdd-9e9c3434338a');\n",
              "        const dataTable =\n",
              "          await google.colab.kernel.invokeFunction('convertToInteractive',\n",
              "                                                    [key], {});\n",
              "        if (!dataTable) return;\n",
              "\n",
              "        const docLinkHtml = 'Like what you see? Visit the ' +\n",
              "          '<a target=\"_blank\" href=https://colab.research.google.com/notebooks/data_table.ipynb>data table notebook</a>'\n",
              "          + ' to learn more about interactive tables.';\n",
              "        element.innerHTML = '';\n",
              "        dataTable['output_type'] = 'display_data';\n",
              "        await google.colab.output.renderOutput(dataTable, element);\n",
              "        const docLink = document.createElement('div');\n",
              "        docLink.innerHTML = docLinkHtml;\n",
              "        element.appendChild(docLink);\n",
              "      }\n",
              "    </script>\n",
              "  </div>\n",
              "\n",
              "\n",
              "<div id=\"df-9ef710ee-2c41-45b8-bb4c-54ad18f58056\">\n",
              "  <button class=\"colab-df-quickchart\" onclick=\"quickchart('df-9ef710ee-2c41-45b8-bb4c-54ad18f58056')\"\n",
              "            title=\"Suggest charts\"\n",
              "            style=\"display:none;\">\n",
              "\n",
              "<svg xmlns=\"http://www.w3.org/2000/svg\" height=\"24px\"viewBox=\"0 0 24 24\"\n",
              "     width=\"24px\">\n",
              "    <g>\n",
              "        <path d=\"M19 3H5c-1.1 0-2 .9-2 2v14c0 1.1.9 2 2 2h14c1.1 0 2-.9 2-2V5c0-1.1-.9-2-2-2zM9 17H7v-7h2v7zm4 0h-2V7h2v10zm4 0h-2v-4h2v4z\"/>\n",
              "    </g>\n",
              "</svg>\n",
              "  </button>\n",
              "\n",
              "<style>\n",
              "  .colab-df-quickchart {\n",
              "      --bg-color: #E8F0FE;\n",
              "      --fill-color: #1967D2;\n",
              "      --hover-bg-color: #E2EBFA;\n",
              "      --hover-fill-color: #174EA6;\n",
              "      --disabled-fill-color: #AAA;\n",
              "      --disabled-bg-color: #DDD;\n",
              "  }\n",
              "\n",
              "  [theme=dark] .colab-df-quickchart {\n",
              "      --bg-color: #3B4455;\n",
              "      --fill-color: #D2E3FC;\n",
              "      --hover-bg-color: #434B5C;\n",
              "      --hover-fill-color: #FFFFFF;\n",
              "      --disabled-bg-color: #3B4455;\n",
              "      --disabled-fill-color: #666;\n",
              "  }\n",
              "\n",
              "  .colab-df-quickchart {\n",
              "    background-color: var(--bg-color);\n",
              "    border: none;\n",
              "    border-radius: 50%;\n",
              "    cursor: pointer;\n",
              "    display: none;\n",
              "    fill: var(--fill-color);\n",
              "    height: 32px;\n",
              "    padding: 0;\n",
              "    width: 32px;\n",
              "  }\n",
              "\n",
              "  .colab-df-quickchart:hover {\n",
              "    background-color: var(--hover-bg-color);\n",
              "    box-shadow: 0 1px 2px rgba(60, 64, 67, 0.3), 0 1px 3px 1px rgba(60, 64, 67, 0.15);\n",
              "    fill: var(--button-hover-fill-color);\n",
              "  }\n",
              "\n",
              "  .colab-df-quickchart-complete:disabled,\n",
              "  .colab-df-quickchart-complete:disabled:hover {\n",
              "    background-color: var(--disabled-bg-color);\n",
              "    fill: var(--disabled-fill-color);\n",
              "    box-shadow: none;\n",
              "  }\n",
              "\n",
              "  .colab-df-spinner {\n",
              "    border: 2px solid var(--fill-color);\n",
              "    border-color: transparent;\n",
              "    border-bottom-color: var(--fill-color);\n",
              "    animation:\n",
              "      spin 1s steps(1) infinite;\n",
              "  }\n",
              "\n",
              "  @keyframes spin {\n",
              "    0% {\n",
              "      border-color: transparent;\n",
              "      border-bottom-color: var(--fill-color);\n",
              "      border-left-color: var(--fill-color);\n",
              "    }\n",
              "    20% {\n",
              "      border-color: transparent;\n",
              "      border-left-color: var(--fill-color);\n",
              "      border-top-color: var(--fill-color);\n",
              "    }\n",
              "    30% {\n",
              "      border-color: transparent;\n",
              "      border-left-color: var(--fill-color);\n",
              "      border-top-color: var(--fill-color);\n",
              "      border-right-color: var(--fill-color);\n",
              "    }\n",
              "    40% {\n",
              "      border-color: transparent;\n",
              "      border-right-color: var(--fill-color);\n",
              "      border-top-color: var(--fill-color);\n",
              "    }\n",
              "    60% {\n",
              "      border-color: transparent;\n",
              "      border-right-color: var(--fill-color);\n",
              "    }\n",
              "    80% {\n",
              "      border-color: transparent;\n",
              "      border-right-color: var(--fill-color);\n",
              "      border-bottom-color: var(--fill-color);\n",
              "    }\n",
              "    90% {\n",
              "      border-color: transparent;\n",
              "      border-bottom-color: var(--fill-color);\n",
              "    }\n",
              "  }\n",
              "</style>\n",
              "\n",
              "  <script>\n",
              "    async function quickchart(key) {\n",
              "      const quickchartButtonEl =\n",
              "        document.querySelector('#' + key + ' button');\n",
              "      quickchartButtonEl.disabled = true;  // To prevent multiple clicks.\n",
              "      quickchartButtonEl.classList.add('colab-df-spinner');\n",
              "      try {\n",
              "        const charts = await google.colab.kernel.invokeFunction(\n",
              "            'suggestCharts', [key], {});\n",
              "      } catch (error) {\n",
              "        console.error('Error during call to suggestCharts:', error);\n",
              "      }\n",
              "      quickchartButtonEl.classList.remove('colab-df-spinner');\n",
              "      quickchartButtonEl.classList.add('colab-df-quickchart-complete');\n",
              "    }\n",
              "    (() => {\n",
              "      let quickchartButtonEl =\n",
              "        document.querySelector('#df-9ef710ee-2c41-45b8-bb4c-54ad18f58056 button');\n",
              "      quickchartButtonEl.style.display =\n",
              "        google.colab.kernel.accessAllowed ? 'block' : 'none';\n",
              "    })();\n",
              "  </script>\n",
              "</div>\n",
              "\n",
              "    </div>\n",
              "  </div>\n"
            ],
            "application/vnd.google.colaboratory.intrinsic+json": {
              "type": "dataframe",
              "variable_name": "data",
              "summary": "{\n  \"name\": \"data\",\n  \"rows\": 199,\n  \"fields\": [\n    {\n      \"column\": \"rank\",\n      \"properties\": {\n        \"dtype\": \"number\",\n        \"std\": 57,\n        \"min\": 1,\n        \"max\": 200,\n        \"num_unique_values\": 199,\n        \"samples\": [\n          83,\n          16,\n          112\n        ],\n        \"semantic_type\": \"\",\n        \"description\": \"\"\n      }\n    },\n    {\n      \"column\": \"channel_info\",\n      \"properties\": {\n        \"dtype\": \"string\",\n        \"num_unique_values\": 199,\n        \"samples\": [\n          \"juventus\",\n          \"virat.kohli\",\n          \"garethbale11\"\n        ],\n        \"semantic_type\": \"\",\n        \"description\": \"\"\n      }\n    },\n    {\n      \"column\": \"influence_score\",\n      \"properties\": {\n        \"dtype\": \"number\",\n        \"std\": 8,\n        \"min\": 22,\n        \"max\": 93,\n        \"num_unique_values\": 32,\n        \"samples\": [\n          63,\n          83,\n          57\n        ],\n        \"semantic_type\": \"\",\n        \"description\": \"\"\n      }\n    },\n    {\n      \"column\": \"posts\",\n      \"properties\": {\n        \"dtype\": \"number\",\n        \"std\": 3476.2150468909217,\n        \"min\": 10.0,\n        \"max\": 17500.0,\n        \"num_unique_values\": 99,\n        \"samples\": [\n          60.0,\n          260.0,\n          9300.0\n        ],\n        \"semantic_type\": \"\",\n        \"description\": \"\"\n      }\n    },\n    {\n      \"column\": \"followers\",\n      \"properties\": {\n        \"dtype\": \"number\",\n        \"std\": 73816993.1502378,\n        \"min\": 32799999.999999996,\n        \"max\": 475800000.0,\n        \"num_unique_values\": 164,\n        \"samples\": [\n          38900000.0,\n          43800000.0,\n          39900000.0\n        ],\n        \"semantic_type\": \"\",\n        \"description\": \"\"\n      }\n    },\n    {\n      \"column\": \"avg_likes\",\n      \"properties\": {\n        \"dtype\": \"string\",\n        \"num_unique_values\": 134,\n        \"samples\": [\n          \"685.1k\",\n          \"356.8k\",\n          \"139.3k\"\n        ],\n        \"semantic_type\": \"\",\n        \"description\": \"\"\n      }\n    },\n    {\n      \"column\": \"60_day_eng_rate\",\n      \"properties\": {\n        \"dtype\": \"number\",\n        \"std\": 3.329719098156142,\n        \"min\": 0.01,\n        \"max\": 26.41,\n        \"num_unique_values\": 146,\n        \"samples\": [\n          2.87,\n          6.38,\n          0.22\n        ],\n        \"semantic_type\": \"\",\n        \"description\": \"\"\n      }\n    },\n    {\n      \"column\": \"new_post_avg_like\",\n      \"properties\": {\n        \"dtype\": \"string\",\n        \"num_unique_values\": 162,\n        \"samples\": [\n          \"208.0k\",\n          \"5.4m\",\n          \"555.9k\"\n        ],\n        \"semantic_type\": \"\",\n        \"description\": \"\"\n      }\n    },\n    {\n      \"column\": \"total_likes\",\n      \"properties\": {\n        \"dtype\": \"string\",\n        \"num_unique_values\": 116,\n        \"samples\": [\n          \"949.9m\",\n          \"12.5b\",\n          \"3.5b\"\n        ],\n        \"semantic_type\": \"\",\n        \"description\": \"\"\n      }\n    },\n    {\n      \"column\": \"country\",\n      \"properties\": {\n        \"dtype\": \"category\",\n        \"num_unique_values\": 25,\n        \"samples\": [\n          \"Turkey\",\n          \"C\\u00c3\\u00b4te d'Ivoire\",\n          \"Spain\"\n        ],\n        \"semantic_type\": \"\",\n        \"description\": \"\"\n      }\n    }\n  ]\n}"
            }
          },
          "metadata": {},
          "execution_count": 8
        }
      ],
      "source": [
        "# Função para converter valores com sufixos k/m para números\n",
        "def convert_to_numeric(value):\n",
        "    if isinstance(value, str):\n",
        "        if 'k' in value:\n",
        "            return float(value.replace('k', '')) * 1e3\n",
        "        elif 'm' in value:\n",
        "            return float(value.replace('m', '')) * 1e6\n",
        "    return float(value)\n",
        "\n",
        "# Carregar o dataset\n",
        "data = pd.read_csv('/content/top_insta_influencers_data.csv')\n",
        "\n",
        "# Converter colunas relevantes\n",
        "data['posts'] = data['posts'].apply(convert_to_numeric)\n",
        "data['followers'] = data['followers'].apply(convert_to_numeric)\n",
        "data['60_day_eng_rate'] = data['60_day_eng_rate'].astype(str).str.replace('%', '').astype(float)\n",
        "\n",
        "# Remover linhas com valores ausentes em y\n",
        "data = data.dropna(subset=['60_day_eng_rate'])\n",
        "\n",
        "# Exibir primeiras linhas do dataset pré-processado\n",
        "data.head()"
      ]
    },
    {
      "cell_type": "markdown",
      "id": "a1be863f",
      "metadata": {
        "id": "a1be863f"
      },
      "source": [
        "## Criação de Features e Separação dos Dados"
      ]
    },
    {
      "cell_type": "code",
      "execution_count": 9,
      "id": "404ac45b",
      "metadata": {
        "id": "404ac45b"
      },
      "outputs": [],
      "source": [
        "# Separar features e target\n",
        "X = data[['influence_score', 'posts', 'followers']]\n",
        "y = data['60_day_eng_rate']\n",
        "\n",
        "# Tratar valores ausentes em X\n",
        "X = X.fillna(X.mean())\n",
        "\n",
        "# Divisão em treino e teste\n",
        "X_train, X_test, y_train, y_test = train_test_split(X, y, test_size=0.2, random_state=42)"
      ]
    },
    {
      "cell_type": "markdown",
      "id": "45ab3933",
      "metadata": {
        "id": "45ab3933"
      },
      "source": [
        "## Modelo de Regressão Linear com Melhorias"
      ]
    },
    {
      "cell_type": "code",
      "execution_count": 10,
      "id": "ff23d5fd",
      "metadata": {
        "id": "ff23d5fd"
      },
      "outputs": [],
      "source": [
        "# Pipeline com normalização, polinômios e regularização\n",
        "pipeline = make_pipeline(StandardScaler(), PolynomialFeatures(degree=2, include_bias=False), RidgeCV())\n",
        "\n",
        "# Treinar o modelo\n",
        "pipeline.fit(X_train, y_train)\n",
        "\n",
        "# Fazer previsões\n",
        "y_pred = pipeline.predict(X_test)"
      ]
    },
    {
      "cell_type": "markdown",
      "id": "b150401c",
      "metadata": {
        "id": "b150401c"
      },
      "source": [
        "## Avaliação do Modelo"
      ]
    },
    {
      "cell_type": "code",
      "execution_count": 11,
      "id": "fc9cc8fc",
      "metadata": {
        "colab": {
          "base_uri": "https://localhost:8080/"
        },
        "id": "fc9cc8fc",
        "outputId": "ba789754-8a7e-48f9-9933-074828cb8ff8"
      },
      "outputs": [
        {
          "output_type": "stream",
          "name": "stdout",
          "text": [
            "MSE: 5.826521903754846\n",
            "MAE: 1.6600845981884713\n",
            "R²: 0.05532455712422513\n"
          ]
        }
      ],
      "source": [
        "# Avaliação do modelo\n",
        "mse = mean_squared_error(y_test, y_pred)\n",
        "mae = mean_absolute_error(y_test, y_pred)\n",
        "r2 = r2_score(y_test, y_pred)\n",
        "\n",
        "print(f'MSE: {mse}')\n",
        "print(f'MAE: {mae}')\n",
        "print(f'R²: {r2}')"
      ]
    },
    {
      "cell_type": "markdown",
      "id": "18e16a7b",
      "metadata": {
        "id": "18e16a7b"
      },
      "source": [
        "## Visualização dos Resultados"
      ]
    },
    {
      "cell_type": "code",
      "execution_count": 12,
      "id": "0832ab5a",
      "metadata": {
        "colab": {
          "base_uri": "https://localhost:8080/",
          "height": 524
        },
        "id": "0832ab5a",
        "outputId": "2272f7af-d52c-4692-aae0-5bc414ab91f5"
      },
      "outputs": [
        {
          "output_type": "display_data",
          "data": {
            "text/plain": [
              "<Figure size 800x600 with 1 Axes>"
            ],
            "image/png": "[encoded data removed]"
          },
          "metadata": {}
        }
      ],
      "source": [
        "# Gráfico de previsão vs real\n",
        "plt.figure(figsize=(8, 6))\n",
        "plt.scatter(y_test, y_pred, alpha=0.7)\n",
        "plt.xlabel('Taxa de Engajamento Real')\n",
        "plt.ylabel('Taxa de Engajamento Prevista')\n",
        "plt.title('Previsões vs Valores Reais')\n",
        "plt.show()"
      ]
    },
    {
      "cell_type": "markdown",
      "id": "8f4f7fa9",
      "metadata": {
        "id": "8f4f7fa9"
      },
      "source": [
        "## Conclusão\n",
        "As melhorias no modelo de Regressão Linear, como normalização, geração de características polinomiais e regularização, resultaram em um modelo com melhor capacidade preditiva. As métricas e gráficos apresentados indicam maior aderência aos dados."
      ]
    }
  ],
  "metadata": {
    "colab": {
      "provenance": [],
      "include_colab_link": true
    },
    "language_info": {
      "name": "python"
    },
    "kernelspec": {
      "name": "python3",
      "display_name": "Python 3"
    }
  },
  "nbformat": 4,
  "nbformat_minor": 5
}